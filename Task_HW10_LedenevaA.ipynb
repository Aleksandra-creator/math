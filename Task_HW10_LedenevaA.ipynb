{
 "cells": [
  {
   "cell_type": "code",
   "execution_count": 8,
   "id": "624e37c4",
   "metadata": {},
   "outputs": [],
   "source": [
    "# Задача. Провести дисперсионный анализ для определения того, \n",
    "# есть ли различия среднего роста среди взрослых футболистов, хоккеистов и штангистов. \n",
    "# Даны значения роста в трех группах случайно выбранных спортсменов: \n",
    "# Футболисты: 173, 175, 180, 178, 177, 185, 183, 182. \n",
    "# Хоккеисты: 177, 179, 180, 188, 177, 172, 171, 184, 180. \n",
    "# Штангисты: 172, 173, 169, 177, 166, 180, 178, 177, 172, 166, 170. "
   ]
  },
  {
   "cell_type": "code",
   "execution_count": 9,
   "id": "d70a9919",
   "metadata": {},
   "outputs": [],
   "source": [
    "import numpy as np\n",
    "import math\n",
    "from scipy import stats"
   ]
  },
  {
   "cell_type": "code",
   "execution_count": 10,
   "id": "84c7295c",
   "metadata": {},
   "outputs": [],
   "source": [
    "football = [173, 175, 180, 178, 177, 185, 183, 182]\n",
    "hockey = [177, 179, 180, 188, 177, 172, 171, 184, 180]\n",
    "weightlifter = [172, 173, 169, 177, 166, 180, 178, 177, 172, 166, 170]"
   ]
  },
  {
   "cell_type": "code",
   "execution_count": 11,
   "id": "fb55f3d1",
   "metadata": {},
   "outputs": [],
   "source": [
    "k = 3\n",
    "n = 28"
   ]
  },
  {
   "cell_type": "code",
   "execution_count": 13,
   "id": "a9970bbd",
   "metadata": {},
   "outputs": [
    {
     "name": "stdout",
     "output_type": "stream",
     "text": [
      "179.125\n",
      "178.66666666666666\n",
      "172.72727272727272\n"
     ]
    }
   ],
   "source": [
    "football_mean = np.mean(football)\n",
    "print(football_mean)\n",
    "hockey_mean = np.mean(hockey)\n",
    "print(hockey_mean)\n",
    "weightlifter_mean = np.mean(weightlifter)\n",
    "print(weightlifter_mean)"
   ]
  },
  {
   "cell_type": "code",
   "execution_count": 21,
   "id": "6e02e03d",
   "metadata": {},
   "outputs": [
    {
     "data": {
      "text/plain": [
       "176.46428571428572"
      ]
     },
     "execution_count": 21,
     "metadata": {},
     "output_type": "execute_result"
    }
   ],
   "source": [
    "# total = np.array([football, hockey, weightlifter])\n",
    "# print(total)\n",
    "array = [173, 175, 180, 178, 177, 185, 183, 182,177, 179, 180, 188, 177, 172, 171, 184, 180, 172, 173, 169, 177, 166, 180, 178, 177, 172, 166, 170]\n",
    "total = np.mean(array)\n",
    "total"
   ]
  },
  {
   "cell_type": "code",
   "execution_count": 30,
   "id": "56aba383",
   "metadata": {},
   "outputs": [
    {
     "data": {
      "text/plain": [
       "253.9074675324678"
      ]
     },
     "execution_count": 30,
     "metadata": {},
     "output_type": "execute_result"
    }
   ],
   "source": [
    "s_f = ((football_mean - total)**2) * 8 + ((hockey_mean - total)**2) * 9 + ((weightlifter_mean - total)**2) * 11\n",
    "s_f"
   ]
  },
  {
   "cell_type": "code",
   "execution_count": 31,
   "id": "23fc9cea",
   "metadata": {},
   "outputs": [
    {
     "data": {
      "text/plain": [
       "577.0568181818182"
      ]
     },
     "execution_count": 31,
     "metadata": {},
     "output_type": "execute_result"
    }
   ],
   "source": [
    "s_ost = ((np.array(football) - football_mean)**2).sum() + ((np.array(hockey) - hockey_mean)**2).sum() + ((np.array(weightlifter) - weightlifter_mean)**2).sum()\n",
    "s_ost"
   ]
  },
  {
   "cell_type": "code",
   "execution_count": 34,
   "id": "fa87701d",
   "metadata": {},
   "outputs": [
    {
     "data": {
      "text/plain": [
       "830.964285714286"
      ]
     },
     "execution_count": 34,
     "metadata": {},
     "output_type": "execute_result"
    }
   ],
   "source": [
    "s = s_f + s_ost\n",
    "s"
   ]
  },
  {
   "cell_type": "code",
   "execution_count": 36,
   "id": "bcba31fe",
   "metadata": {},
   "outputs": [
    {
     "data": {
      "text/plain": [
       "126.9537337662339"
      ]
     },
     "execution_count": 36,
     "metadata": {},
     "output_type": "execute_result"
    }
   ],
   "source": [
    "D_f = s_f / (k-1)\n",
    "D_f"
   ]
  },
  {
   "cell_type": "code",
   "execution_count": 37,
   "id": "b170e02f",
   "metadata": {},
   "outputs": [
    {
     "data": {
      "text/plain": [
       "23.08227272727273"
      ]
     },
     "execution_count": 37,
     "metadata": {},
     "output_type": "execute_result"
    }
   ],
   "source": [
    "D_ost = s_ost / (n-k)\n",
    "D_ost"
   ]
  },
  {
   "cell_type": "code",
   "execution_count": 38,
   "id": "4ec406b2",
   "metadata": {},
   "outputs": [
    {
     "data": {
      "text/plain": [
       "5.500053450812598"
      ]
     },
     "execution_count": 38,
     "metadata": {},
     "output_type": "execute_result"
    }
   ],
   "source": [
    "F_n = D_f / D_ost\n",
    "F_n"
   ]
  },
  {
   "cell_type": "code",
   "execution_count": 39,
   "id": "ed456973",
   "metadata": {},
   "outputs": [
    {
     "data": {
      "text/plain": [
       "F_onewayResult(statistic=5.500053450812596, pvalue=0.010482206918698694)"
      ]
     },
     "execution_count": 39,
     "metadata": {},
     "output_type": "execute_result"
    }
   ],
   "source": [
    "f = stats.f_oneway(football, hockey, weightlifter)\n",
    "f"
   ]
  },
  {
   "cell_type": "markdown",
   "id": "479f1eda",
   "metadata": {},
   "source": [
    "f = 5,5 - наблюдаемое значение\n",
    "\n",
    "f_tabl = 3,35 - табличное значение при α = 0,05\n",
    "\n",
    "Вывод: так как наблюдаемое значение больше табличного, то различия среднего роста среди взрослых футболистов, хоккеистов и штангистов являются статистически значимыми"
   ]
  },
  {
   "cell_type": "code",
   "execution_count": null,
   "id": "ddc21479",
   "metadata": {},
   "outputs": [],
   "source": []
  }
 ],
 "metadata": {
  "kernelspec": {
   "display_name": "Python 3 (ipykernel)",
   "language": "python",
   "name": "python3"
  },
  "language_info": {
   "codemirror_mode": {
    "name": "ipython",
    "version": 3
   },
   "file_extension": ".py",
   "mimetype": "text/x-python",
   "name": "python",
   "nbconvert_exporter": "python",
   "pygments_lexer": "ipython3",
   "version": "3.11.4"
  }
 },
 "nbformat": 4,
 "nbformat_minor": 5
}
