{
 "cells": [
  {
   "cell_type": "code",
   "execution_count": null,
   "id": "3126c79c",
   "metadata": {},
   "outputs": [],
   "source": [
    "# Задача_3. Известно, что рост футболистов в сборной распределен нормально \n",
    "# с дисперсией генеральной совокупности, равной 25 кв.см. Объем выборки равен 27, среднее выборочное составляет 174.2. \n",
    "# Найдите доверительный интервал для математического ожидания с надежностью 0.95."
   ]
  },
  {
   "cell_type": "code",
   "execution_count": 2,
   "id": "cbe96448",
   "metadata": {},
   "outputs": [
    {
     "name": "stdout",
     "output_type": "stream",
     "text": [
      "172.23999999999998 176.16\n"
     ]
    }
   ],
   "source": [
    "М = 174.2\n",
    "σ = 25\n",
    "n = 27\n",
    "t = 1,96\n",
    "\n",
    "x1 = 174.2 + 1.96 * (25/25)\n",
    "x2 = 174.2 - 1.96 * (25/25)\n",
    "\n",
    "print(x2,x1)\n"
   ]
  },
  {
   "cell_type": "code",
   "execution_count": null,
   "id": "c760c143",
   "metadata": {},
   "outputs": [],
   "source": []
  }
 ],
 "metadata": {
  "kernelspec": {
   "display_name": "Python 3 (ipykernel)",
   "language": "python",
   "name": "python3"
  },
  "language_info": {
   "codemirror_mode": {
    "name": "ipython",
    "version": 3
   },
   "file_extension": ".py",
   "mimetype": "text/x-python",
   "name": "python",
   "nbconvert_exporter": "python",
   "pygments_lexer": "ipython3",
   "version": "3.11.4"
  }
 },
 "nbformat": 4,
 "nbformat_minor": 5
}
